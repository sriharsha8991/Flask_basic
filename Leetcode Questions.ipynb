{
 "cells": [
  {
   "cell_type": "code",
   "execution_count": 1,
   "id": "15a5ae29",
   "metadata": {},
   "outputs": [],
   "source": [
    "l = [1,2,3,4,56]\n",
    "l.remove(4)"
   ]
  },
  {
   "cell_type": "code",
   "execution_count": 3,
   "id": "37aa03cc",
   "metadata": {},
   "outputs": [],
   "source": [
    "l.remove(56)"
   ]
  },
  {
   "cell_type": "code",
   "execution_count": 33,
   "id": "63e5729f",
   "metadata": {},
   "outputs": [
    {
     "name": "stdout",
     "output_type": "stream",
     "text": [
      "3\n"
     ]
    }
   ],
   "source": [
    "\n",
    "l = [[1,3],[2,3],[3,1]]\n",
    "ans = [0]*5\n",
    "for i in range(len(l)):\n",
    "    ans[l[i][1]] += 1\n",
    "    \n",
    "if ans.count(max(ans)) == 1:\n",
    "    print(ans.index(max(ans)))\n",
    "else:\n",
    "    print(-1)"
   ]
  },
  {
   "cell_type": "code",
   "execution_count": 3,
   "id": "4edf413c",
   "metadata": {},
   "outputs": [
    {
     "data": {
      "text/plain": [
       "1"
      ]
     },
     "execution_count": 3,
     "metadata": {},
     "output_type": "execute_result"
    }
   ],
   "source": [
    "def gcd(a,b):\n",
    "    while (a!=b):\n",
    "        if (a>b):\n",
    "            a = a-b\n",
    "        else:\n",
    "            b = b-a\n",
    "    return a\n",
    "gcd(5,7)"
   ]
  },
  {
   "cell_type": "code",
   "execution_count": 24,
   "id": "f9cb1e4a",
   "metadata": {},
   "outputs": [
    {
     "data": {
      "text/plain": [
       "17"
      ]
     },
     "execution_count": 24,
     "metadata": {},
     "output_type": "execute_result"
    }
   ],
   "source": [
    "def get_digit_sum(n):\n",
    "    ans = 0\n",
    "    while(n>0):\n",
    "        ans+=n%10\n",
    "        n = n//10\n",
    "    return ans\n",
    "\n",
    "k=1\n",
    "n = 262124\n",
    "for i in range(k):\n",
    "    n = get_digit_sum(n)\n",
    "n"
   ]
  },
  {
   "cell_type": "code",
   "execution_count": 27,
   "id": "a5c5f2ec",
   "metadata": {},
   "outputs": [
    {
     "name": "stdout",
     "output_type": "stream",
     "text": [
      "False\n",
      "True\n",
      "True\n",
      "True\n",
      "True\n",
      "False\n",
      "False\n",
      "False\n"
     ]
    }
   ],
   "source": [
    "s = '-4391 pp'\n",
    "for i in s:\n",
    "    print(i.isdigit())"
   ]
  },
  {
   "cell_type": "code",
   "execution_count": 58,
   "id": "f89ef002",
   "metadata": {},
   "outputs": [
    {
     "name": "stdout",
     "output_type": "stream",
     "text": [
      "987\n"
     ]
    }
   ],
   "source": [
    "s = \"words and 987\"\n",
    "num = ''\n",
    "for i in s:\n",
    "    if i.isdigit():\n",
    "        num+=i\n",
    "if '-' in s:\n",
    "    num = -1*(int(num))\n",
    "else: \n",
    "    num = int(num)\n",
    "print(num)"
   ]
  },
  {
   "cell_type": "code",
   "execution_count": 23,
   "id": "d8574a73",
   "metadata": {},
   "outputs": [
    {
     "name": "stdout",
     "output_type": "stream",
     "text": [
      "1\n",
      "0\n"
     ]
    }
   ],
   "source": [
    "nums = [2,1,-1] \n",
    "mid = len(nums)//2\n",
    "\n",
    "while(mid>=0):\n",
    "    \n",
    "    left = sum(nums[0:mid])\n",
    "    right  = sum(nums[mid+1:])\n",
    "    if left>right:\n",
    "        print(mid)\n",
    "        mid -= 1\n",
    "    elif right>left:\n",
    "        print(mid)\n",
    "        mid += 1\n",
    "        \n",
    "    if left == right:\n",
    "        print(mid)\n",
    "        break\n",
    "    if mid < 0 or mid>len(nums)-1:\n",
    "        print(-1)\n",
    "        break\n",
    "\n"
   ]
  },
  {
   "cell_type": "code",
   "execution_count": 28,
   "id": "d3046dd0",
   "metadata": {},
   "outputs": [
    {
     "data": {
      "text/plain": [
       "[3, 4, 5, 611, 5122]"
      ]
     },
     "execution_count": 28,
     "metadata": {},
     "output_type": "execute_result"
    }
   ],
   "source": [
    "l = [611,5122,3,4,5]\n",
    "l.sort()\n",
    "l"
   ]
  },
  {
   "cell_type": "code",
   "execution_count": 55,
   "id": "66a6f170",
   "metadata": {},
   "outputs": [
    {
     "name": "stdout",
     "output_type": "stream",
     "text": [
      "1\n"
     ]
    }
   ],
   "source": [
    "n = 10111\n",
    "count = 0\n",
    "while(n>0):\n",
    "    count = n&1\n",
    "    n =n>>1\n",
    "        \n",
    "print(count)"
   ]
  },
  {
   "cell_type": "code",
   "execution_count": 57,
   "id": "80c85d9d",
   "metadata": {},
   "outputs": [
    {
     "ename": "SyntaxError",
     "evalue": "leading zeros in decimal integer literals are not permitted; use an 0o prefix for octal integers (<ipython-input-57-f86cbceefc63>, line 3)",
     "output_type": "error",
     "traceback": [
      "\u001b[1;36m  File \u001b[1;32m\"<ipython-input-57-f86cbceefc63>\"\u001b[1;36m, line \u001b[1;32m3\u001b[0m\n\u001b[1;33m    binary(0000010110110111)\u001b[0m\n\u001b[1;37m                          ^\u001b[0m\n\u001b[1;31mSyntaxError\u001b[0m\u001b[1;31m:\u001b[0m leading zeros in decimal integer literals are not permitted; use an 0o prefix for octal integers\n"
     ]
    }
   ],
   "source": [
    "def binary(n):\n",
    "    return bin(n).count('1')\n",
    "\n"
   ]
  },
  {
   "cell_type": "code",
   "execution_count": 74,
   "id": "6bfb32f4",
   "metadata": {},
   "outputs": [
    {
     "data": {
      "text/plain": [
       "True"
      ]
     },
     "execution_count": 74,
     "metadata": {},
     "output_type": "execute_result"
    }
   ],
   "source": [
    "s= \"sris\"\n",
    "\n",
    "t = \"sris\"\n",
    "s==t"
   ]
  },
  {
   "cell_type": "code",
   "execution_count": 75,
   "id": "db357063",
   "metadata": {},
   "outputs": [
    {
     "data": {
      "application/javascript": [
       "\n",
       "        if (window._pyforest_update_imports_cell) { window._pyforest_update_imports_cell('import pandas as pd'); }\n",
       "    "
      ],
      "text/plain": [
       "<IPython.core.display.Javascript object>"
      ]
     },
     "metadata": {},
     "output_type": "display_data"
    }
   ],
   "source": [
    "s1 = [13.3,2.4,10,13.3,11]\n",
    "s2 = [8.5,7.1,4.6,11.5,10.3]\n",
    "df = pd.DataFrame({\"sample1\":s1,\"sample2\":s2})"
   ]
  },
  {
   "cell_type": "code",
   "execution_count": 76,
   "id": "fab0a6eb",
   "metadata": {},
   "outputs": [
    {
     "data": {
      "text/html": [
       "<div>\n",
       "<style scoped>\n",
       "    .dataframe tbody tr th:only-of-type {\n",
       "        vertical-align: middle;\n",
       "    }\n",
       "\n",
       "    .dataframe tbody tr th {\n",
       "        vertical-align: top;\n",
       "    }\n",
       "\n",
       "    .dataframe thead th {\n",
       "        text-align: right;\n",
       "    }\n",
       "</style>\n",
       "<table border=\"1\" class=\"dataframe\">\n",
       "  <thead>\n",
       "    <tr style=\"text-align: right;\">\n",
       "      <th></th>\n",
       "      <th>sample1</th>\n",
       "      <th>sample2</th>\n",
       "    </tr>\n",
       "  </thead>\n",
       "  <tbody>\n",
       "    <tr>\n",
       "      <th>count</th>\n",
       "      <td>5.000000</td>\n",
       "      <td>5.000000</td>\n",
       "    </tr>\n",
       "    <tr>\n",
       "      <th>mean</th>\n",
       "      <td>10.000000</td>\n",
       "      <td>8.400000</td>\n",
       "    </tr>\n",
       "    <tr>\n",
       "      <th>std</th>\n",
       "      <td>4.487204</td>\n",
       "      <td>2.709243</td>\n",
       "    </tr>\n",
       "    <tr>\n",
       "      <th>min</th>\n",
       "      <td>2.400000</td>\n",
       "      <td>4.600000</td>\n",
       "    </tr>\n",
       "    <tr>\n",
       "      <th>25%</th>\n",
       "      <td>10.000000</td>\n",
       "      <td>7.100000</td>\n",
       "    </tr>\n",
       "    <tr>\n",
       "      <th>50%</th>\n",
       "      <td>11.000000</td>\n",
       "      <td>8.500000</td>\n",
       "    </tr>\n",
       "    <tr>\n",
       "      <th>75%</th>\n",
       "      <td>13.300000</td>\n",
       "      <td>10.300000</td>\n",
       "    </tr>\n",
       "    <tr>\n",
       "      <th>max</th>\n",
       "      <td>13.300000</td>\n",
       "      <td>11.500000</td>\n",
       "    </tr>\n",
       "  </tbody>\n",
       "</table>\n",
       "</div>"
      ],
      "text/plain": [
       "         sample1    sample2\n",
       "count   5.000000   5.000000\n",
       "mean   10.000000   8.400000\n",
       "std     4.487204   2.709243\n",
       "min     2.400000   4.600000\n",
       "25%    10.000000   7.100000\n",
       "50%    11.000000   8.500000\n",
       "75%    13.300000  10.300000\n",
       "max    13.300000  11.500000"
      ]
     },
     "execution_count": 76,
     "metadata": {},
     "output_type": "execute_result"
    }
   ],
   "source": [
    "df.describe()"
   ]
  },
  {
   "cell_type": "code",
   "execution_count": 78,
   "id": "a2ea7e50",
   "metadata": {},
   "outputs": [
    {
     "data": {
      "text/plain": [
       "15240.6735218509"
      ]
     },
     "execution_count": 78,
     "metadata": {},
     "output_type": "execute_result"
    }
   ],
   "source": [
    "n = 663\n",
    "a =13454\n",
    "n2 =504\n",
    "av2 = 17591\n",
    "cam = ((n*a) + (n2*av2))/(n+n2)\n",
    "cam"
   ]
  },
  {
   "cell_type": "code",
   "execution_count": 83,
   "id": "dcfe89fe",
   "metadata": {},
   "outputs": [
    {
     "name": "stdout",
     "output_type": "stream",
     "text": [
      "2\n"
     ]
    }
   ],
   "source": [
    "num = 121\n",
    "cop = num\n",
    "count =ans= 0\n",
    "while(num>0):\n",
    "    ans = num%10\n",
    "    if cop%ans == 0:\n",
    "        count += 1\n",
    "    num //= 10\n",
    "    \n",
    "print(count)"
   ]
  },
  {
   "cell_type": "code",
   "execution_count": 88,
   "id": "26865421",
   "metadata": {},
   "outputs": [
    {
     "data": {
      "text/plain": [
       "2"
      ]
     },
     "execution_count": 88,
     "metadata": {},
     "output_type": "execute_result"
    }
   ],
   "source": [
    "import calendar as cld\n",
    "cld.weekday(2023,1,25)"
   ]
  },
  {
   "cell_type": "code",
   "execution_count": 103,
   "id": "2b177c3c",
   "metadata": {},
   "outputs": [
    {
     "data": {
      "text/plain": [
       "9969"
      ]
     },
     "execution_count": 103,
     "metadata": {},
     "output_type": "execute_result"
    }
   ],
   "source": [
    "s = '9669'\n",
    "l = list(s)\n",
    "l[l.index('6')] = '9'\n",
    "int(''.join(l))\n"
   ]
  },
  {
   "cell_type": "code",
   "execution_count": 125,
   "id": "bbc6b6ac",
   "metadata": {},
   "outputs": [
    {
     "name": "stdout",
     "output_type": "stream",
     "text": [
      "21\n",
      "6\n"
     ]
    },
    {
     "ename": "TypeError",
     "evalue": "'int' object is not iterable",
     "output_type": "error",
     "traceback": [
      "\u001b[1;31m---------------------------------------------------------------------------\u001b[0m",
      "\u001b[1;31mTypeError\u001b[0m                                 Traceback (most recent call last)",
      "\u001b[1;32m<ipython-input-125-42ea1d25df5f>\u001b[0m in \u001b[0;36m<module>\u001b[1;34m\u001b[0m\n\u001b[0;32m      7\u001b[0m     \u001b[1;32mif\u001b[0m \u001b[0ml\u001b[0m \u001b[1;33m==\u001b[0m \u001b[0msum\u001b[0m\u001b[1;33m(\u001b[0m\u001b[0mrange\u001b[0m\u001b[1;33m(\u001b[0m\u001b[0mi\u001b[0m\u001b[1;33m,\u001b[0m\u001b[0mn\u001b[0m\u001b[1;33m+\u001b[0m\u001b[1;36m1\u001b[0m\u001b[1;33m)\u001b[0m\u001b[1;33m)\u001b[0m\u001b[1;33m:\u001b[0m\u001b[1;33m\u001b[0m\u001b[1;33m\u001b[0m\u001b[0m\n\u001b[0;32m      8\u001b[0m         \u001b[0mprint\u001b[0m\u001b[1;33m(\u001b[0m\u001b[0mi\u001b[0m\u001b[1;33m)\u001b[0m\u001b[1;33m\u001b[0m\u001b[1;33m\u001b[0m\u001b[0m\n\u001b[1;32m----> 9\u001b[1;33m \u001b[0msum\u001b[0m\u001b[1;33m(\u001b[0m\u001b[1;36m8\u001b[0m\u001b[1;33m)\u001b[0m\u001b[1;33m\u001b[0m\u001b[1;33m\u001b[0m\u001b[0m\n\u001b[0m",
      "\u001b[1;31mTypeError\u001b[0m: 'int' object is not iterable"
     ]
    }
   ],
   "source": [
    "n = 8\n",
    "l = 0\n",
    "total= sum(range(n+1))\n",
    "print(total - sum(range(7,n+1)))\n",
    "for i in range(1,n+1):\n",
    "    l += i\n",
    "    if l == sum(range(i,n+1)):\n",
    "        print(i)\n"
   ]
  },
  {
   "cell_type": "code",
   "execution_count": 141,
   "id": "0f4dd846",
   "metadata": {},
   "outputs": [
    {
     "name": "stdout",
     "output_type": "stream",
     "text": [
      "0\n",
      "1\n",
      "5\n",
      "10\n",
      "20\n",
      "31\n",
      "41\n",
      "[1, 3]\n"
     ]
    }
   ],
   "source": [
    "ans = 0\n",
    "arr = [1,4,5,2,3]\n",
    "l = []\n",
    "for i in range(len(arr)):\n",
    "    if i%2 != 0:\n",
    "        l.append(i)\n",
    "if len(arr)>=3:\n",
    "    for j in l:\n",
    "        for i in range(len(arr)-2):\n",
    "            print(ans)\n",
    "            ans += sum(arr[i:i+j])\n",
    "print(ans)\n",
    "print(l)"
   ]
  },
  {
   "cell_type": "code",
   "execution_count": 142,
   "id": "fa7b6f65",
   "metadata": {},
   "outputs": [],
   "source": [
    "def multiply(num1: str, num2: str) -> str:\n",
    "    #length of both the numbers\n",
    "    m, n = len(num1), len(num2)\n",
    "    #list of zeros that has a length of m+n\n",
    "    pos = [0] * (m + n)\n",
    "    #reveerse the numbers\n",
    "    num1 = num1[::-1]\n",
    "    num2 = num2[::-1]\n",
    "    \n",
    "    for i in range(m):\n",
    "        for j in range(n):\n",
    "            pos[i + j] += int(num1[i]) * int(num2[j])\n",
    "            \n",
    "    carry = 0\n",
    "    for i in range(m + n):\n",
    "        pos[i] += carry\n",
    "        carry = pos[i] // 10\n",
    "        pos[i] %= 10\n",
    "    res = \"\".join(map(str, pos[::-1]))\n",
    "    res = res.lstrip(\"0\")\n",
    "    return \"0\" if not res else res\n"
   ]
  },
  {
   "cell_type": "code",
   "execution_count": null,
   "id": "d5f0a853",
   "metadata": {},
   "outputs": [],
   "source": []
  },
  {
   "attachments": {
    "linked%20list.png": {
     "image/png": "[encoded data removed]"
    }
   },
   "cell_type": "markdown",
   "id": "0a43ebbc",
   "metadata": {},
   "source": [
    "## Linked Lists\n",
    "linked list is an abstract data type that stores collection of elements where each element points to the next\n",
    "![linked%20list.png](attachment:linked%20list.png)"
   ]
  },
  {
   "cell_type": "code",
   "execution_count": null,
   "id": "728c18ba",
   "metadata": {},
   "outputs": [],
   "source": []
  },
  {
   "cell_type": "code",
   "execution_count": null,
   "id": "d6a9c416",
   "metadata": {},
   "outputs": [],
   "source": []
  },
  {
   "cell_type": "code",
   "execution_count": null,
   "id": "4b2ff14c",
   "metadata": {},
   "outputs": [],
   "source": []
  },
  {
   "cell_type": "code",
   "execution_count": null,
   "id": "a49924f5",
   "metadata": {},
   "outputs": [],
   "source": []
  },
  {
   "cell_type": "code",
   "execution_count": null,
   "id": "2c778369",
   "metadata": {},
   "outputs": [],
   "source": []
  },
  {
   "cell_type": "code",
   "execution_count": null,
   "id": "e2635e6f",
   "metadata": {},
   "outputs": [],
   "source": []
  },
  {
   "cell_type": "code",
   "execution_count": null,
   "id": "128a4067",
   "metadata": {},
   "outputs": [],
   "source": []
  },
  {
   "cell_type": "code",
   "execution_count": null,
   "id": "3c25c902",
   "metadata": {},
   "outputs": [],
   "source": []
  },
  {
   "cell_type": "code",
   "execution_count": null,
   "id": "8df5950c",
   "metadata": {},
   "outputs": [],
   "source": []
  },
  {
   "cell_type": "code",
   "execution_count": null,
   "id": "f74e5e96",
   "metadata": {},
   "outputs": [],
   "source": []
  },
  {
   "cell_type": "code",
   "execution_count": null,
   "id": "7735cf18",
   "metadata": {},
   "outputs": [],
   "source": []
  },
  {
   "cell_type": "code",
   "execution_count": null,
   "id": "392f5bb7",
   "metadata": {},
   "outputs": [],
   "source": []
  },
  {
   "cell_type": "code",
   "execution_count": null,
   "id": "93b1fb0d",
   "metadata": {},
   "outputs": [],
   "source": []
  },
  {
   "cell_type": "code",
   "execution_count": null,
   "id": "fbe7ed9a",
   "metadata": {},
   "outputs": [],
   "source": []
  },
  {
   "cell_type": "code",
   "execution_count": null,
   "id": "8ce49e53",
   "metadata": {},
   "outputs": [],
   "source": []
  },
  {
   "cell_type": "code",
   "execution_count": null,
   "id": "efe3682b",
   "metadata": {},
   "outputs": [],
   "source": []
  },
  {
   "cell_type": "code",
   "execution_count": null,
   "id": "c224a335",
   "metadata": {},
   "outputs": [],
   "source": []
  },
  {
   "cell_type": "code",
   "execution_count": null,
   "id": "b3085ec8",
   "metadata": {},
   "outputs": [],
   "source": []
  },
  {
   "cell_type": "code",
   "execution_count": null,
   "id": "2ebb21a4",
   "metadata": {},
   "outputs": [],
   "source": []
  },
  {
   "cell_type": "code",
   "execution_count": null,
   "id": "5983f2a5",
   "metadata": {},
   "outputs": [],
   "source": []
  },
  {
   "cell_type": "code",
   "execution_count": null,
   "id": "218afa5a",
   "metadata": {},
   "outputs": [],
   "source": []
  },
  {
   "cell_type": "code",
   "execution_count": null,
   "id": "d3ae6c6c",
   "metadata": {},
   "outputs": [],
   "source": []
  },
  {
   "cell_type": "code",
   "execution_count": null,
   "id": "da5d824f",
   "metadata": {},
   "outputs": [],
   "source": []
  },
  {
   "cell_type": "code",
   "execution_count": null,
   "id": "a2d08e63",
   "metadata": {},
   "outputs": [],
   "source": []
  },
  {
   "cell_type": "code",
   "execution_count": null,
   "id": "1433b679",
   "metadata": {},
   "outputs": [],
   "source": []
  },
  {
   "cell_type": "code",
   "execution_count": null,
   "id": "e54fcf9b",
   "metadata": {},
   "outputs": [],
   "source": []
  },
  {
   "cell_type": "code",
   "execution_count": null,
   "id": "4fc99d7b",
   "metadata": {},
   "outputs": [],
   "source": []
  },
  {
   "cell_type": "code",
   "execution_count": null,
   "id": "006aff48",
   "metadata": {},
   "outputs": [],
   "source": []
  },
  {
   "cell_type": "code",
   "execution_count": null,
   "id": "6ecf5fbb",
   "metadata": {},
   "outputs": [],
   "source": []
  },
  {
   "cell_type": "code",
   "execution_count": null,
   "id": "06bfaf95",
   "metadata": {},
   "outputs": [],
   "source": []
  },
  {
   "cell_type": "code",
   "execution_count": null,
   "id": "c3bd3f83",
   "metadata": {},
   "outputs": [],
   "source": []
  },
  {
   "cell_type": "code",
   "execution_count": null,
   "id": "e3506aa5",
   "metadata": {},
   "outputs": [],
   "source": []
  },
  {
   "cell_type": "code",
   "execution_count": null,
   "id": "34c85d23",
   "metadata": {},
   "outputs": [],
   "source": []
  },
  {
   "cell_type": "code",
   "execution_count": null,
   "id": "6ab17e20",
   "metadata": {},
   "outputs": [],
   "source": []
  },
  {
   "cell_type": "code",
   "execution_count": null,
   "id": "1b83d0d0",
   "metadata": {},
   "outputs": [],
   "source": []
  },
  {
   "cell_type": "code",
   "execution_count": null,
   "id": "2f386656",
   "metadata": {},
   "outputs": [],
   "source": []
  },
  {
   "cell_type": "code",
   "execution_count": null,
   "id": "095b17a7",
   "metadata": {},
   "outputs": [],
   "source": []
  },
  {
   "cell_type": "code",
   "execution_count": null,
   "id": "9d6d7103",
   "metadata": {},
   "outputs": [],
   "source": []
  },
  {
   "cell_type": "code",
   "execution_count": null,
   "id": "9d4e397f",
   "metadata": {},
   "outputs": [],
   "source": []
  }
 ],
 "metadata": {
  "kernelspec": {
   "display_name": "Python 3",
   "language": "python",
   "name": "python3"
  },
  "language_info": {
   "codemirror_mode": {
    "name": "ipython",
    "version": 3
   },
   "file_extension": ".py",
   "mimetype": "text/x-python",
   "name": "python",
   "nbconvert_exporter": "python",
   "pygments_lexer": "ipython3",
   "version": "3.8.8"
  }
 },
 "nbformat": 4,
 "nbformat_minor": 5
}
