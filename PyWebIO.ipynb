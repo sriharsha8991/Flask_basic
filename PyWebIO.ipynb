{
 "cells": [
  {
   "cell_type": "code",
   "execution_count": 1,
   "id": "fd2c8a69",
   "metadata": {
    "scrolled": false
   },
   "outputs": [
    {
     "name": "stdout",
     "output_type": "stream",
     "text": [
      "Collecting pywebio\n",
      "  Downloading pywebio-1.7.1.tar.gz (471 kB)\n",
      "Requirement already satisfied: tornado>=5.0 in c:\\users\\sriharsha\\anaconda3\\lib\\site-packages (from pywebio) (6.1)\n",
      "Collecting user-agents\n",
      "  Downloading user_agents-2.2.0-py3-none-any.whl (9.6 kB)\n",
      "Collecting ua-parser>=0.10.0\n",
      "  Downloading ua_parser-0.16.1-py2.py3-none-any.whl (38 kB)\n",
      "Building wheels for collected packages: pywebio\n",
      "  Building wheel for pywebio (setup.py): started\n",
      "  Building wheel for pywebio (setup.py): finished with status 'done'\n",
      "  Created wheel for pywebio: filename=pywebio-1.7.1-py3-none-any.whl size=482962 sha256=203cf12a53742a5d0c2217c2c4493ca6a563155fb3339d18de5ba74bc75bf877\n",
      "  Stored in directory: c:\\users\\sriharsha\\appdata\\local\\pip\\cache\\wheels\\90\\27\\9e\\22c9187bde5c1812b802a3860296f91a00ad6af86295f7eec8\n",
      "Successfully built pywebio\n",
      "Installing collected packages: ua-parser, user-agents, pywebio\n",
      "Successfully installed pywebio-1.7.1 ua-parser-0.16.1 user-agents-2.2.0\n"
     ]
    }
   ],
   "source": [
    "!pip install pywebio"
   ]
  },
  {
   "cell_type": "code",
   "execution_count": 2,
   "id": "7da17eb3",
   "metadata": {},
   "outputs": [],
   "source": [
    "from pywebio.input import *\n",
    "from pywebio.output import *"
   ]
  },
  {
   "cell_type": "code",
   "execution_count": null,
   "id": "64e3dd74",
   "metadata": {},
   "outputs": [],
   "source": []
  },
  {
   "cell_type": "code",
   "execution_count": null,
   "id": "be567ed7",
   "metadata": {},
   "outputs": [],
   "source": []
  },
  {
   "cell_type": "code",
   "execution_count": null,
   "id": "b2edef99",
   "metadata": {},
   "outputs": [],
   "source": []
  },
  {
   "cell_type": "code",
   "execution_count": null,
   "id": "54df11d6",
   "metadata": {},
   "outputs": [],
   "source": []
  },
  {
   "cell_type": "code",
   "execution_count": null,
   "id": "7ccd1171",
   "metadata": {},
   "outputs": [],
   "source": []
  },
  {
   "cell_type": "code",
   "execution_count": null,
   "id": "a2164345",
   "metadata": {},
   "outputs": [],
   "source": []
  },
  {
   "cell_type": "code",
   "execution_count": null,
   "id": "7754a357",
   "metadata": {},
   "outputs": [],
   "source": []
  },
  {
   "cell_type": "code",
   "execution_count": null,
   "id": "c8c6d8d6",
   "metadata": {},
   "outputs": [],
   "source": []
  },
  {
   "cell_type": "code",
   "execution_count": null,
   "id": "a745fea3",
   "metadata": {},
   "outputs": [],
   "source": []
  },
  {
   "cell_type": "code",
   "execution_count": null,
   "id": "b15c0646",
   "metadata": {},
   "outputs": [],
   "source": []
  }
 ],
 "metadata": {
  "kernelspec": {
   "display_name": "Python 3",
   "language": "python",
   "name": "python3"
  },
  "language_info": {
   "codemirror_mode": {
    "name": "ipython",
    "version": 3
   },
   "file_extension": ".py",
   "mimetype": "text/x-python",
   "name": "python",
   "nbconvert_exporter": "python",
   "pygments_lexer": "ipython3",
   "version": "3.8.8"
  }
 },
 "nbformat": 4,
 "nbformat_minor": 5
}
